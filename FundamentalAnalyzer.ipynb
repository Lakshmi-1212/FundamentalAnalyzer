{
 "cells": [
  {
   "cell_type": "code",
   "execution_count": 1,
   "id": "99a768c3",
   "metadata": {},
   "outputs": [],
   "source": [
    "import pandas as pd\n",
    "\n",
    "\n",
    "from bs4 import BeautifulSoup\n",
    "from urllib.request import urlopen, Request\n",
    "\n",
    "from time import sleep\n",
    "\n",
    "import re\n",
    "\n",
    "import matplotlib.pyplot as plt\n",
    "import seaborn as sns\n",
    "\n",
    "import warnings\n",
    "warnings.filterwarnings(\"ignore\") "
   ]
  },
  {
   "cell_type": "code",
   "execution_count": 2,
   "id": "eb5795ff",
   "metadata": {},
   "outputs": [],
   "source": [
    "BANK_SCRIPS = ['HDFCBANK','ICICIBANK','AXISBANK','KOTAKBANK','SBIN','CANBK']\n",
    "IT_SCRIPS = ['INFY', 'HCLTECH', 'LTI', 'TCS','LTTS', 'WIPRO' ]\n",
    "SCRIPS = IT_SCRIPS"
   ]
  },
  {
   "cell_type": "markdown",
   "id": "ef37070f",
   "metadata": {},
   "source": [
    "# WEB SCRAPING"
   ]
  },
  {
   "cell_type": "code",
   "execution_count": 3,
   "id": "2cf35f42",
   "metadata": {},
   "outputs": [],
   "source": [
    "def extract_table_by_class(soup, section_id, class_name):\n",
    "    section_html = soup.find('section',{'id': section_id})\n",
    "    table_html = section_html.find('table',{'class': class_name})\n",
    "\n",
    "    headers = []\n",
    "    for header in table_html.find_all('th'):\n",
    "        headers.append(  header.text or 'Type')\n",
    "\n",
    "    table_df = pd.DataFrame(columns = headers)\n",
    "\n",
    "    for row_element in table_html.find_all('tr')[1:]:\n",
    "            row_data = row_element.find_all('td')\n",
    "            row = [tr.text.strip() for tr in row_data]\n",
    "            length = len(table_df)\n",
    "            table_df.loc[length] = row \n",
    "            \n",
    "    return table_df\n",
    "    \n",
    "\n",
    "def fetch_number_span(list_element):\n",
    "    num_span = list_element.find('span',{'class':'number'})\n",
    "\n",
    "    num_span = num_span.text.replace(',', '')\n",
    "    return float(num_span) if (num_span != '') else 0.0\n",
    "    \n",
    "def extract_scrip_ratios(soup,div_class, ul_id):\n",
    "    div_html = soup.find('div',{'class': div_class})\n",
    "    ul_html = div_html.find('ul',{'id': ul_id})\n",
    "    current_price = 0\n",
    "    high = 0.0\n",
    "    low = 0.0\n",
    "    dividend_yield = 0.0\n",
    "    pe = 0.0\n",
    "    roe = 0.0\n",
    "    roce = 0.0\n",
    "    market_cap = 0.0\n",
    "     \n",
    "    scrip_data = pd.Series()\n",
    "    \n",
    "    for li in ul_html.find_all(\"li\"):\n",
    "        name_span = li.find('span',{'class':'name'})\n",
    "        \n",
    "        if 'Current Price' in name_span.text: \n",
    "            current_price = fetch_number_span(li)\n",
    "\n",
    "        if 'High / Low' in name_span.text:\n",
    "            num_spans = li.find_all('span',{'class':'number'})\n",
    "            if(len(num_spans) == 2):\n",
    "                high_num = num_spans[0].text.replace(',', '')\n",
    "                low_num = num_spans[1].text.replace(',', '')\n",
    "                high = float(high_num) if (high_num != '') else 0.0\n",
    "                low = float(low_num) if (low_num != '') else 0.0 \n",
    "                \n",
    "        if 'Market Cap' in name_span.text: \n",
    "            market_cap = fetch_number_span(li)\n",
    "            \n",
    "        if 'Stock P/E' in name_span.text:\n",
    "            pe = fetch_number_span(li) \n",
    "            \n",
    "        if 'Dividend Yield' in name_span.text:\n",
    "            dividend_yield = fetch_number_span(li) \n",
    "            \n",
    "        if 'ROCE' in name_span.text:\n",
    "            roce = fetch_number_span(li) \n",
    "            \n",
    "        if 'ROE' in name_span.text:\n",
    "            roe = fetch_number_span(li) \n",
    "            \n",
    "    scrip_data['Price'] = current_price\n",
    "    scrip_data['High'] = high\n",
    "    scrip_data['Low'] = low\n",
    "    scrip_data['Market_Cap'] = market_cap\n",
    "    scrip_data['PE'] = pe\n",
    "    scrip_data['Dividend'] = dividend_yield\n",
    "    scrip_data['ROCE'] = roce\n",
    "    scrip_data['ROE'] = roe\n",
    "    return scrip_data\n",
    "\n",
    "\n",
    "BASE_URL = 'https://www.screener.in/company/'\n",
    "def fetch_scrip_data(scrip):\n",
    "    link = f'{BASE_URL}{scrip}'\n",
    "    hdr = {'User-Agent':'Mozilla/5.0'}\n",
    "    req = Request(link,headers=hdr)\n",
    "    \n",
    "    profit_loss_df = None\n",
    "    scrip_data = pd.Series()\n",
    "    try:\n",
    "        page=urlopen(req)\n",
    "        soup = BeautifulSoup(page)\n",
    "        scrip_data = extract_scrip_ratios(soup,'company-ratios', 'top-ratios')\n",
    "        profit_loss_df = extract_table_by_class(soup, 'profit-loss', 'data-table responsive-text-nowrap')\n",
    "    except:\n",
    "        print(f'EXCEPTION THROWN: UNABLE TO FETCH DATA')\n",
    "\n",
    "    return scrip_data, profit_loss_df\n",
    " \n",
    "\n",
    "     \n",
    "\n",
    "def extract_last_n_years_pl(pl_df, n_years):\n",
    "    # Extract data for all years from the column names\n",
    "    mon_year_regex = re.compile('([A-Z][a-z]{2}) (\\d{4})')\n",
    "    years = {}\n",
    "    for col in list(pl_df.columns):\n",
    "        res = re.search(mon_year_regex,col)\n",
    "        if res:\n",
    "            years[res.group(2)] = col\n",
    "\n",
    "    # Get only the last n (PROFIT_LOSS_YEARS) years for checking the P&L \n",
    "    years_list = sorted(years.keys())\n",
    "    years_list = years_list[-n_years:]\n",
    "    cols = [years[year] for year in years_list]\n",
    "    pl_values = pl_df[cols].iloc[0, :].values.tolist()\n",
    "    pl_values = [float(x.replace(',', '')) for x in pl_values] \n",
    "    return pl_values\n",
    " "
   ]
  },
  {
   "cell_type": "markdown",
   "id": "edacffe7",
   "metadata": {},
   "source": [
    "# CHECK IF CURRENT PRICE IS BELOW PREVIOUS HIGH "
   ]
  },
  {
   "cell_type": "code",
   "execution_count": 4,
   "id": "9c33a609",
   "metadata": {},
   "outputs": [],
   "source": [
    "# Check if current price is below the 52-week high with a certain threshold\n",
    "# Eg: If current price is 100, 52-week high is 120, threshold is 10%, then return True\n",
    "#     If current price is 100, 52-week high is 105, threshold is 10%, then return False\n",
    "def check_current_below_high_threshold(current,high, threshold_percent):\n",
    "    below_threshold = False\n",
    "    if ((current < high) & ((high-current)/high*100 > threshold_percent)):\n",
    "        below_threshold = True\n",
    "    return below_threshold   "
   ]
  },
  {
   "cell_type": "markdown",
   "id": "51b628e6",
   "metadata": {},
   "source": [
    "# PROFIT/LOSS BASED STRATEGY"
   ]
  },
  {
   "cell_type": "markdown",
   "id": "62658ac2",
   "metadata": {},
   "source": [
    "STRATEGY:  \n",
    "BUY recommendation if:  \n",
    "    1. Net profit for the company has been increasing consistently in the last few (config) years  \n",
    "    2. Current market price is atleast 10% below the 52-week high (stock is not trading around all time high)"
   ]
  },
  {
   "cell_type": "code",
   "execution_count": 5,
   "id": "e4a6b0ea",
   "metadata": {},
   "outputs": [],
   "source": [
    "# PROFIT-LOSS STRATEGY - CONFIG\n",
    "PROFIT_LOSS_YEARS = 3\n",
    "SCREENER_ROW_PL = 'Net Profit' # or can be 'Profit before tax'\n",
    "CURRENT_HIGH_THRESHOLD_PERCENT = 10"
   ]
  },
  {
   "cell_type": "code",
   "execution_count": 6,
   "id": "13eaa031",
   "metadata": {},
   "outputs": [],
   "source": [
    "def apply_pl_strategy(current_price, scrip_high, profit_loss_df, high_threshold_percent):\n",
    "    \n",
    "#     STRATEGY:\n",
    "#     BUY recommendation if:\n",
    "#         1. Profit/Loss for the company has been increasing consistently in the last few years.\n",
    "#         2. Current market price is below 10% of 52-week high\n",
    "\n",
    "    # SET DEFAULT TO STOCK AS NO-ACTION\n",
    "    strategy_result = 'WAIT'\n",
    "    try: \n",
    "\n",
    "        # CHECK IF REQUIRED VALUES COULD BE SCRAPED\n",
    "        if (current_price is None or current_price == 0.0 or \n",
    "            scrip_high is None or scrip_high == 0.0):\n",
    "            strategy_result = 'NOT FOUND'\n",
    "\n",
    "        else:\n",
    "            profit_loss_df = profit_loss_df[profit_loss_df['Type'] == SCREENER_ROW_PL]\n",
    "            last_pl_list = extract_last_n_years_pl(profit_loss_df, PROFIT_LOSS_YEARS)\n",
    "            print(f'Profit/Loss for last {PROFIT_LOSS_YEARS} years:{last_pl_list}')\n",
    "            print(f'Current Price:{current_price}, 52-week High:{scrip_high}, Threshold%: {high_threshold_percent}%')\n",
    "\n",
    "            # CHECK IF PROFIT-LOSS IS CONSISTENTLY INCREASING\n",
    "            if(last_pl_list == sorted(last_pl_list)):\n",
    "                # IF YES, CHECK IF CURRENT MARKET VALUE IS NOT AT ALL TIME HIGH\n",
    "                if check_current_below_high_threshold(current_price, scrip_high, high_threshold_percent):\n",
    "                    # BUY RECOMMENDATION\n",
    "                    strategy_result = 'BUY'\n",
    "    except e:\n",
    "        print(f\"UNABLE TO APPLY PROFIT-LOSS STRATEGY ON {scrip}. Exception: {e}\")\n",
    "\n",
    "    return strategy_result\n"
   ]
  },
  {
   "cell_type": "markdown",
   "id": "dac6f061",
   "metadata": {},
   "source": [
    "# SCRAPE THE DATA"
   ]
  },
  {
   "cell_type": "code",
   "execution_count": 7,
   "id": "3748a426",
   "metadata": {},
   "outputs": [
    {
     "name": "stdout",
     "output_type": "stream",
     "text": [
      "\n",
      "SYMBOL: INFY\n",
      "Profit/Loss for last 3 years:[15543.0, 18048.0, 21235.0]\n",
      "Current Price:1504.0, 52-week High:1954.0, Threshold%: 10%\n",
      "APPLYING PROFIT/LOSS STRATEGY ON INFY: BUY\n",
      "\n",
      "SYMBOL: HCLTECH\n",
      "Profit/Loss for last 3 years:[8969.0, 8743.0, 10874.0]\n",
      "Current Price:1052.0, 52-week High:1378.0, Threshold%: 10%\n",
      "APPLYING PROFIT/LOSS STRATEGY ON HCLTECH: WAIT\n",
      "\n",
      "SYMBOL: LTI\n",
      "Profit/Loss for last 3 years:[1552.0, 1787.0, 2261.0]\n",
      "Current Price:4111.0, 52-week High:7595.0, Threshold%: 10%\n",
      "APPLYING PROFIT/LOSS STRATEGY ON LTI: BUY\n",
      "\n",
      "SYMBOL: TCS\n",
      "Profit/Loss for last 3 years:[33260.0, 30960.0, 38187.0]\n",
      "Current Price:3415.0, 52-week High:4046.0, Threshold%: 10%\n",
      "APPLYING PROFIT/LOSS STRATEGY ON TCS: WAIT\n",
      "\n",
      "SYMBOL: LTTS\n",
      "Profit/Loss for last 3 years:[790.0, 673.0, 918.0]\n",
      "Current Price:3503.0, 52-week High:5958.0, Threshold%: 10%\n",
      "APPLYING PROFIT/LOSS STRATEGY ON LTTS: WAIT\n",
      "\n",
      "SYMBOL: WIPRO\n",
      "Profit/Loss for last 3 years:[8681.0, 10061.0, 12135.0]\n",
      "Current Price:469.0, 52-week High:740.0, Threshold%: 10%\n",
      "APPLYING PROFIT/LOSS STRATEGY ON WIPRO: BUY\n"
     ]
    },
    {
     "data": {
      "text/html": [
       "<div>\n",
       "<style scoped>\n",
       "    .dataframe tbody tr th:only-of-type {\n",
       "        vertical-align: middle;\n",
       "    }\n",
       "\n",
       "    .dataframe tbody tr th {\n",
       "        vertical-align: top;\n",
       "    }\n",
       "\n",
       "    .dataframe thead th {\n",
       "        text-align: right;\n",
       "    }\n",
       "</style>\n",
       "<table border=\"1\" class=\"dataframe\">\n",
       "  <thead>\n",
       "    <tr style=\"text-align: right;\">\n",
       "      <th></th>\n",
       "      <th>Market_Cap</th>\n",
       "      <th>Price</th>\n",
       "      <th>High</th>\n",
       "      <th>Low</th>\n",
       "      <th>PE</th>\n",
       "      <th>ROE</th>\n",
       "      <th>ROCE</th>\n",
       "      <th>Dividend</th>\n",
       "      <th>STRATEGY_PL</th>\n",
       "    </tr>\n",
       "    <tr>\n",
       "      <th>Symbol</th>\n",
       "      <th></th>\n",
       "      <th></th>\n",
       "      <th></th>\n",
       "      <th></th>\n",
       "      <th></th>\n",
       "      <th></th>\n",
       "      <th></th>\n",
       "      <th></th>\n",
       "      <th></th>\n",
       "    </tr>\n",
       "  </thead>\n",
       "  <tbody>\n",
       "    <tr>\n",
       "      <th>INFY</th>\n",
       "      <td>632875.0</td>\n",
       "      <td>1504.0</td>\n",
       "      <td>1954.0</td>\n",
       "      <td>1311.0</td>\n",
       "      <td>29.9</td>\n",
       "      <td>30.0</td>\n",
       "      <td>38.4</td>\n",
       "      <td>2.06</td>\n",
       "      <td>BUY</td>\n",
       "    </tr>\n",
       "    <tr>\n",
       "      <th>HCLTECH</th>\n",
       "      <td>285518.0</td>\n",
       "      <td>1052.0</td>\n",
       "      <td>1378.0</td>\n",
       "      <td>896.0</td>\n",
       "      <td>26.3</td>\n",
       "      <td>25.2</td>\n",
       "      <td>30.4</td>\n",
       "      <td>3.04</td>\n",
       "      <td>WAIT</td>\n",
       "    </tr>\n",
       "    <tr>\n",
       "      <th>LTI</th>\n",
       "      <td>72063.0</td>\n",
       "      <td>4111.0</td>\n",
       "      <td>7595.0</td>\n",
       "      <td>3525.0</td>\n",
       "      <td>31.9</td>\n",
       "      <td>29.5</td>\n",
       "      <td>38.3</td>\n",
       "      <td>0.97</td>\n",
       "      <td>BUY</td>\n",
       "    </tr>\n",
       "    <tr>\n",
       "      <th>TCS</th>\n",
       "      <td>1249529.0</td>\n",
       "      <td>3415.0</td>\n",
       "      <td>4046.0</td>\n",
       "      <td>3036.0</td>\n",
       "      <td>32.7</td>\n",
       "      <td>50.2</td>\n",
       "      <td>61.3</td>\n",
       "      <td>1.11</td>\n",
       "      <td>WAIT</td>\n",
       "    </tr>\n",
       "    <tr>\n",
       "      <th>LTTS</th>\n",
       "      <td>36967.0</td>\n",
       "      <td>3503.0</td>\n",
       "      <td>5958.0</td>\n",
       "      <td>2517.0</td>\n",
       "      <td>40.2</td>\n",
       "      <td>25.1</td>\n",
       "      <td>33.2</td>\n",
       "      <td>0.63</td>\n",
       "      <td>WAIT</td>\n",
       "    </tr>\n",
       "    <tr>\n",
       "      <th>WIPRO</th>\n",
       "      <td>256922.0</td>\n",
       "      <td>469.0</td>\n",
       "      <td>740.0</td>\n",
       "      <td>462.0</td>\n",
       "      <td>21.2</td>\n",
       "      <td>24.4</td>\n",
       "      <td>27.1</td>\n",
       "      <td>1.28</td>\n",
       "      <td>BUY</td>\n",
       "    </tr>\n",
       "  </tbody>\n",
       "</table>\n",
       "</div>"
      ],
      "text/plain": [
       "        Market_Cap   Price    High     Low    PE   ROE  ROCE Dividend  \\\n",
       "Symbol                                                                  \n",
       "INFY      632875.0  1504.0  1954.0  1311.0  29.9  30.0  38.4     2.06   \n",
       "HCLTECH   285518.0  1052.0  1378.0   896.0  26.3  25.2  30.4     3.04   \n",
       "LTI        72063.0  4111.0  7595.0  3525.0  31.9  29.5  38.3     0.97   \n",
       "TCS      1249529.0  3415.0  4046.0  3036.0  32.7  50.2  61.3     1.11   \n",
       "LTTS       36967.0  3503.0  5958.0  2517.0  40.2  25.1  33.2     0.63   \n",
       "WIPRO     256922.0   469.0   740.0   462.0  21.2  24.4  27.1     1.28   \n",
       "\n",
       "        STRATEGY_PL  \n",
       "Symbol               \n",
       "INFY            BUY  \n",
       "HCLTECH        WAIT  \n",
       "LTI             BUY  \n",
       "TCS            WAIT  \n",
       "LTTS           WAIT  \n",
       "WIPRO           BUY  "
      ]
     },
     "metadata": {},
     "output_type": "display_data"
    }
   ],
   "source": [
    "final_df = pd.DataFrame({'Symbol':SCRIPS},\n",
    "                        columns=['Symbol','Market_Cap','Price','High','Low','PE','ROE','ROCE','Dividend','STRATEGY_PL']).set_index('Symbol')\n",
    "\n",
    "\n",
    "# LOOP THROUGH EACH SCRIP\n",
    "for scrip in SCRIPS:\n",
    "    print(f\"\\nSYMBOL: {scrip}\")\n",
    "    scrip_data, profit_loss_df = fetch_scrip_data(scrip)\n",
    "    \n",
    "    for index, value in scrip_data.iteritems():\n",
    "        final_df[index][scrip] = value\n",
    "    \n",
    "    strategy_result = apply_pl_strategy(scrip_data['Price'], scrip_data['High'], profit_loss_df, CURRENT_HIGH_THRESHOLD_PERCENT)\n",
    "    print(f\"APPLYING PROFIT/LOSS STRATEGY ON {scrip}: {strategy_result}\")\n",
    "    final_df['STRATEGY_PL'][scrip] = strategy_result\n",
    "    #sleep(2) # Add sleep if TOO MANY REQUESTS error (Error Code: 429) is thrown\n",
    "\n",
    "display(final_df)"
   ]
  },
  {
   "cell_type": "markdown",
   "id": "2fefdb98",
   "metadata": {},
   "source": [
    "# MARKET CAPITALIZATION PLOT"
   ]
  },
  {
   "cell_type": "code",
   "execution_count": 8,
   "id": "528fd920",
   "metadata": {},
   "outputs": [
    {
     "data": {
      "image/png": "[encoded data removed]",
      "text/plain": [
       "<Figure size 1080x576 with 1 Axes>"
      ]
     },
     "metadata": {
      "needs_background": "light"
     },
     "output_type": "display_data"
    }
   ],
   "source": [
    "plt.figure(figsize = (15,8))\n",
    "\n",
    "mark_cap_sorted_df = final_df.sort_values(by='Market_Cap', ascending = False)\n",
    "ax = sns.barplot(x=mark_cap_sorted_df.index, y=mark_cap_sorted_df['Market_Cap'], palette = 'bright')\n",
    "ax.set(xlabel=\"Symbol\", ylabel='Market Cap (in Cr)',title = f'MARKET CAPITALIZATION (in Crores)') \n",
    "sns.set(font_scale = 1.5)\n",
    "\n",
    "#annotate axis = seaborn axis\n",
    "for p in ax.patches:\n",
    "     ax.annotate(\"%.0f Cr\" % p.get_height(), (p.get_x() + p.get_width() / 2., p.get_height()),\n",
    "         ha='center', va='center', fontsize=14,  xytext=(0, 10),\n",
    "         textcoords='offset points')"
   ]
  },
  {
   "cell_type": "markdown",
   "id": "9ac109ca",
   "metadata": {},
   "source": [
    "# PLOT THE RESULT OF APPLYING THE PROFIT-LOSS STRATEGY"
   ]
  },
  {
   "cell_type": "code",
   "execution_count": 9,
   "id": "60b0f0e2",
   "metadata": {},
   "outputs": [
    {
     "data": {
      "image/png": "[encoded data removed]",
      "text/plain": [
       "<Figure size 1080x720 with 1 Axes>"
      ]
     },
     "metadata": {},
     "output_type": "display_data"
    }
   ],
   "source": [
    "fig = plt.subplots(figsize=(15,10))\n",
    "ax = sns.barplot(x=final_df.index,y=final_df['Price'],hue=final_df['STRATEGY_PL'],palette='rainbow', dodge=False) \n",
    "ax.set(xlabel='SYMBOL', ylabel='CURRENT PRICE', title = 'PROFIT/LOSS STRATEGY')\n",
    "#annotate axis = seaborn axis\n",
    "for p in ax.patches:\n",
    "             ax.annotate(\"%.0f\" % p.get_height(), (p.get_x() + p.get_width() / 2., p.get_height()),\n",
    "                 ha='center', va='center', fontsize=16,  xytext=(0, 10),\n",
    "                 textcoords='offset points')\n",
    "\n",
    "sns.set(font_scale = 1.5)\n",
    "plt.show()\n"
   ]
  },
  {
   "cell_type": "code",
   "execution_count": null,
   "id": "aff586d9",
   "metadata": {},
   "outputs": [],
   "source": []
  },
  {
   "cell_type": "markdown",
   "id": "e06d4b1e",
   "metadata": {},
   "source": [
    "# PE - ROE - ROCE COMPARISON PLOT"
   ]
  },
  {
   "cell_type": "code",
   "execution_count": 10,
   "id": "c3ddd9b8",
   "metadata": {},
   "outputs": [
    {
     "data": {
      "image/png": "[encoded data removed]",
      "text/plain": [
       "<Figure size 1080x720 with 1 Axes>"
      ]
     },
     "metadata": {},
     "output_type": "display_data"
    }
   ],
   "source": [
    "roe_data = pd.DataFrame(final_df['ROE']).rename(columns = {'ROE':'Value'})\n",
    "roe_data['Type'] = 'ROE'\n",
    "\n",
    "roce_data = pd.DataFrame(final_df['ROCE']).rename(columns = {'ROCE':'Value'})\n",
    "roce_data['Type'] = 'ROCE'\n",
    "\n",
    "\n",
    "\n",
    "pe_data = pd.DataFrame(final_df['PE']).rename(columns = {'PE':'Value'})\n",
    "pe_data['Type'] = 'PE'\n",
    "\n",
    "analysis_df = pd.concat([pe_data, roe_data,roce_data])\n",
    "analysis_df\n",
    "\n",
    "fig = plt.subplots(figsize=(15,10))\n",
    "\n",
    "ax = sns.barplot(x=analysis_df.index,\n",
    "           y=analysis_df['Value'],\n",
    "           hue=analysis_df['Type'],\n",
    "           palette = 'plasma')\n",
    "ax.set( title = 'PE - ROE - ROCE COMPARISON')\n",
    "\n",
    "for p in ax.patches:\n",
    "             ax.annotate(\"%.0f\" % p.get_height(), (p.get_x() + p.get_width() / 2., p.get_height()),\n",
    "                 ha='center', va='center', fontsize=16,  xytext=(0, 10),\n",
    "                 textcoords='offset points')\n",
    "        \n",
    "plt.show()"
   ]
  },
  {
   "cell_type": "code",
   "execution_count": null,
   "id": "0dc3b9e7",
   "metadata": {},
   "outputs": [],
   "source": []
  },
  {
   "cell_type": "code",
   "execution_count": null,
   "id": "bfbe34c0",
   "metadata": {},
   "outputs": [],
   "source": []
  },
  {
   "cell_type": "code",
   "execution_count": null,
   "id": "4c275b3a",
   "metadata": {},
   "outputs": [],
   "source": []
  },
  {
   "cell_type": "markdown",
   "id": "acf7530e",
   "metadata": {},
   "source": [
    "# SAMPLE: EXTRACT THE MARKET CAP OF INFOSYS"
   ]
  },
  {
   "cell_type": "code",
   "execution_count": 11,
   "id": "60af5a20",
   "metadata": {},
   "outputs": [
    {
     "name": "stdout",
     "output_type": "stream",
     "text": [
      "MARKET CAPITILIZATION - INFY: 632875.0 Cr\n"
     ]
    }
   ],
   "source": [
    "from bs4 import BeautifulSoup\n",
    "from urllib.request import urlopen, Request\n",
    "\n",
    "SCRIP = 'INFY'\n",
    "link = f'https://www.screener.in/company/{SCRIP}'\n",
    "hdr = {'User-Agent':'Mozilla/5.0'}\n",
    "req = Request(link,headers=hdr)\n",
    " \n",
    "try:\n",
    "    page=urlopen(req)\n",
    "    soup = BeautifulSoup(page)\n",
    "    \n",
    "    div_html = soup.find('div',{'class': 'company-ratios'})\n",
    "    ul_html = div_html.find('ul',{'id': 'top-ratios'})\n",
    "    market_cap = 0.0\n",
    "        \n",
    "    for li in ul_html.find_all(\"li\"):\n",
    "        name_span = li.find('span',{'class':'name'})\n",
    "        if 'Market Cap' in name_span.text: \n",
    "            num_span = li.find('span',{'class':'number'})\n",
    "            num_span = num_span.text.replace(',', '')\n",
    "            market_cap = float(num_span) if (num_span != '') else 0.0\n",
    "    \n",
    "    print(f'MARKET CAPITILIZATION - {SCRIP}: {market_cap} Cr')\n",
    "\n",
    "except:\n",
    "    print(f'EXCEPTION THROWN: UNABLE TO FETCH DATA FOR {SCRIP}')\n"
   ]
  },
  {
   "cell_type": "code",
   "execution_count": null,
   "id": "6a5766bb",
   "metadata": {},
   "outputs": [],
   "source": []
  }
 ],
 "metadata": {
  "kernelspec": {
   "display_name": "Python 3.9 (common)",
   "language": "python",
   "name": "common"
  },
  "language_info": {
   "codemirror_mode": {
    "name": "ipython",
    "version": 3
   },
   "file_extension": ".py",
   "mimetype": "text/x-python",
   "name": "python",
   "nbconvert_exporter": "python",
   "pygments_lexer": "ipython3",
   "version": "3.9.7"
  },
  "toc": {
   "base_numbering": 1,
   "nav_menu": {},
   "number_sections": true,
   "sideBar": true,
   "skip_h1_title": false,
   "title_cell": "Table of Contents",
   "title_sidebar": "Contents",
   "toc_cell": false,
   "toc_position": {},
   "toc_section_display": true,
   "toc_window_display": true
  }
 },
 "nbformat": 4,
 "nbformat_minor": 5
}
